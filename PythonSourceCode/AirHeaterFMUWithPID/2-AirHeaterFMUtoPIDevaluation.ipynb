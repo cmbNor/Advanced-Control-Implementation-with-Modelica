{
 "cells": [
  {
   "cell_type": "markdown",
   "id": "1c354f14",
   "metadata": {},
   "source": [
    "# Comparison of PI simulation with step change in setpoint and ambient temperature based on simulation in OpenModelica and simulation in Python based on the use of a FMU."
   ]
  },
  {
   "cell_type": "code",
   "execution_count": 1,
   "id": "36c1dc07",
   "metadata": {},
   "outputs": [],
   "source": [
    "#Import of libraries\n",
    "import matplotlib.pyplot as plt\n",
    "import numpy as np\n",
    "import pandas as pd"
   ]
  },
  {
   "cell_type": "markdown",
   "id": "10800641",
   "metadata": {},
   "source": [
    "## Data import and construction of data frames"
   ]
  },
  {
   "cell_type": "code",
   "execution_count": 2,
   "id": "4ac4135b",
   "metadata": {},
   "outputs": [],
   "source": [
    "# Import the csv file that holds the exported data from simulating PID controller in OpenModelica\n",
    "dfOpenModPID = pd.read_csv('datafiles/exportedPIDsimulationFromOpenModelica.csv')\n",
    "\n",
    "# Rename column names of datafram\n",
    "dfOpenModPID.rename(columns = {'airHeaterTextWithIO.u_ext':'controlSignalOME',\n",
    "                               'airHeaterTextWithIO.T_Out_ext':'outputTemperatureOME',\n",
    "                              'airHeaterTextWithIO.T_amb_ext':'ambienteTemperatureOME'}, inplace = True)\n",
    "   \n",
    "\n",
    "# Import the csv file that holds the simulation data from simulating PID controller in Python with FMU\n",
    "dfFMUpythonPID = pd.read_csv(\"datafiles/airHeaterPIDsimulation.csv\")"
   ]
  },
  {
   "cell_type": "markdown",
   "id": "88f31b5a",
   "metadata": {},
   "source": [
    "## Calculate statistics and writing results to file"
   ]
  },
  {
   "cell_type": "code",
   "execution_count": 3,
   "id": "0fb5a0f9",
   "metadata": {},
   "outputs": [
    {
     "name": "stdout",
     "output_type": "stream",
     "text": [
      "   index   dfOpenModPID                                        \\\n",
      "                   time controlSignalOME outputTemperatureOME   \n",
      "0  count  600008.000000    600008.000000        600008.000000   \n",
      "1   mean     299.999177         1.477942            23.279399   \n",
      "2    std     173.205508         0.947084             2.386166   \n",
      "3    min       0.000000         0.000000            19.632542   \n",
      "4    50%     299.997500         1.999926            25.000000   \n",
      "5    max     600.000000         5.000000            25.942111   \n",
      "\n",
      "                                        dfFMUpythonPID                 \\\n",
      "  ambienteTemperatureOME    Reference.y         # time  controlSignal   \n",
      "0          600008.000000  600008.000000  600001.000000  600001.000000   \n",
      "1              18.333336      23.333322     300.001000       1.485131   \n",
      "2               0.745359       2.357028     173.205514       0.975682   \n",
      "3              18.000000      20.000000       0.001000       0.000000   \n",
      "4              18.000000      25.000000     300.001000       1.999989   \n",
      "5              20.000000      25.000000     600.001000       5.000000   \n",
      "\n",
      "                                         \n",
      "  outputTemperature ambienteTemperature  \n",
      "0     600001.000000       600001.000000  \n",
      "1         23.304572           18.333336  \n",
      "2          2.411911            0.745359  \n",
      "3         19.632972           18.000000  \n",
      "4         25.000000           18.000000  \n",
      "5         26.926412           20.000000  \n"
     ]
    }
   ],
   "source": [
    "# Remove the percentiles from the output\n",
    "perc = []\n",
    "\n",
    "# Gather statistical propertis of both data frames\n",
    "descOMPI = dfOpenModPID.describe(percentiles=perc)\n",
    "descPythonPI = dfFMUpythonPID.describe(percentiles=perc)\n",
    "\n",
    "# Merge the statistical properties\n",
    "merged_desc = pd.concat([descOMPI, descPythonPI], keys=['dfOpenModPID', 'dfFMUpythonPID'], axis=1)\n",
    "\n",
    "# Resetting index for better formatting\n",
    "merged_desc.reset_index(inplace=True)\n",
    "\n",
    "\n",
    "# Export the merged statistical properties to a CSV file\n",
    "merged_desc.to_excel('datafiles/describeExport.xlsx', index=True)\n",
    "\n",
    "# Print the stats\n",
    "print(merged_desc)"
   ]
  },
  {
   "cell_type": "markdown",
   "id": "c018280c",
   "metadata": {},
   "source": [
    "## Modify frames"
   ]
  },
  {
   "cell_type": "code",
   "execution_count": 4,
   "id": "b6ca23df",
   "metadata": {},
   "outputs": [],
   "source": [
    "# Drop last 7 lines from OpenModelica datafram to make both frames at equal length\n",
    "n = 7\n",
    " \n",
    "# Dropping last n rows using drop\n",
    "dfOpenModPID.drop(dfOpenModPID.tail(n).index,\n",
    "        inplace = True)"
   ]
  },
  {
   "cell_type": "code",
   "execution_count": 5,
   "id": "1fc1134e",
   "metadata": {},
   "outputs": [
    {
     "ename": "KeyError",
     "evalue": "'controlSignal'",
     "output_type": "error",
     "traceback": [
      "\u001b[1;31m---------------------------------------------------------------------------\u001b[0m",
      "\u001b[1;31mKeyError\u001b[0m                                  Traceback (most recent call last)",
      "File \u001b[1;32mC:\\ProgramData\\anaconda3\\lib\\site-packages\\pandas\\core\\indexes\\base.py:3802\u001b[0m, in \u001b[0;36mIndex.get_loc\u001b[1;34m(self, key, method, tolerance)\u001b[0m\n\u001b[0;32m   3801\u001b[0m \u001b[38;5;28;01mtry\u001b[39;00m:\n\u001b[1;32m-> 3802\u001b[0m     \u001b[38;5;28;01mreturn\u001b[39;00m \u001b[38;5;28;43mself\u001b[39;49m\u001b[38;5;241;43m.\u001b[39;49m\u001b[43m_engine\u001b[49m\u001b[38;5;241;43m.\u001b[39;49m\u001b[43mget_loc\u001b[49m\u001b[43m(\u001b[49m\u001b[43mcasted_key\u001b[49m\u001b[43m)\u001b[49m\n\u001b[0;32m   3803\u001b[0m \u001b[38;5;28;01mexcept\u001b[39;00m \u001b[38;5;167;01mKeyError\u001b[39;00m \u001b[38;5;28;01mas\u001b[39;00m err:\n",
      "File \u001b[1;32mC:\\ProgramData\\anaconda3\\lib\\site-packages\\pandas\\_libs\\index.pyx:138\u001b[0m, in \u001b[0;36mpandas._libs.index.IndexEngine.get_loc\u001b[1;34m()\u001b[0m\n",
      "File \u001b[1;32mC:\\ProgramData\\anaconda3\\lib\\site-packages\\pandas\\_libs\\index.pyx:165\u001b[0m, in \u001b[0;36mpandas._libs.index.IndexEngine.get_loc\u001b[1;34m()\u001b[0m\n",
      "File \u001b[1;32mpandas\\_libs\\hashtable_class_helper.pxi:5745\u001b[0m, in \u001b[0;36mpandas._libs.hashtable.PyObjectHashTable.get_item\u001b[1;34m()\u001b[0m\n",
      "File \u001b[1;32mpandas\\_libs\\hashtable_class_helper.pxi:5753\u001b[0m, in \u001b[0;36mpandas._libs.hashtable.PyObjectHashTable.get_item\u001b[1;34m()\u001b[0m\n",
      "\u001b[1;31mKeyError\u001b[0m: 'controlSignal'",
      "\nThe above exception was the direct cause of the following exception:\n",
      "\u001b[1;31mKeyError\u001b[0m                                  Traceback (most recent call last)",
      "Cell \u001b[1;32mIn[5], line 5\u001b[0m\n\u001b[0;32m      2\u001b[0m dfTFMU_PID_diff \u001b[38;5;241m=\u001b[39m dfOpenModPID[[\u001b[38;5;124m'\u001b[39m\u001b[38;5;124mtime\u001b[39m\u001b[38;5;124m'\u001b[39m]]\u001b[38;5;241m.\u001b[39mcopy()\n\u001b[0;32m      4\u001b[0m \u001b[38;5;66;03m# Calculate the difference between Python and OpenModelica - Control signal\u001b[39;00m\n\u001b[1;32m----> 5\u001b[0m dfTFMU_PID_diff[\u001b[38;5;124m'\u001b[39m\u001b[38;5;124mControlSignalDiff\u001b[39m\u001b[38;5;124m'\u001b[39m] \u001b[38;5;241m=\u001b[39m dfFMUpythonPID[\u001b[38;5;124m'\u001b[39m\u001b[38;5;124mcontrolSignal\u001b[39m\u001b[38;5;124m'\u001b[39m] \u001b[38;5;241m-\u001b[39m \u001b[43mdfOpenModPID\u001b[49m\u001b[43m[\u001b[49m\u001b[38;5;124;43m'\u001b[39;49m\u001b[38;5;124;43mcontrolSignal\u001b[39;49m\u001b[38;5;124;43m'\u001b[39;49m\u001b[43m]\u001b[49m\n\u001b[0;32m      7\u001b[0m \u001b[38;5;66;03m# Calculate the difference between Python and OpenModelica - Output temperature\u001b[39;00m\n\u001b[0;32m      8\u001b[0m dfTFMU_PID_diff[\u001b[38;5;124m'\u001b[39m\u001b[38;5;124mOutputTemperatureDiff\u001b[39m\u001b[38;5;124m'\u001b[39m] \u001b[38;5;241m=\u001b[39m dfFMUpythonPID[\u001b[38;5;124m'\u001b[39m\u001b[38;5;124moutputTemperature\u001b[39m\u001b[38;5;124m'\u001b[39m] \u001b[38;5;241m-\u001b[39m dfOpenModPID[\u001b[38;5;124m'\u001b[39m\u001b[38;5;124moutputTemperature\u001b[39m\u001b[38;5;124m'\u001b[39m]\n",
      "File \u001b[1;32mC:\\ProgramData\\anaconda3\\lib\\site-packages\\pandas\\core\\frame.py:3807\u001b[0m, in \u001b[0;36mDataFrame.__getitem__\u001b[1;34m(self, key)\u001b[0m\n\u001b[0;32m   3805\u001b[0m \u001b[38;5;28;01mif\u001b[39;00m \u001b[38;5;28mself\u001b[39m\u001b[38;5;241m.\u001b[39mcolumns\u001b[38;5;241m.\u001b[39mnlevels \u001b[38;5;241m>\u001b[39m \u001b[38;5;241m1\u001b[39m:\n\u001b[0;32m   3806\u001b[0m     \u001b[38;5;28;01mreturn\u001b[39;00m \u001b[38;5;28mself\u001b[39m\u001b[38;5;241m.\u001b[39m_getitem_multilevel(key)\n\u001b[1;32m-> 3807\u001b[0m indexer \u001b[38;5;241m=\u001b[39m \u001b[38;5;28;43mself\u001b[39;49m\u001b[38;5;241;43m.\u001b[39;49m\u001b[43mcolumns\u001b[49m\u001b[38;5;241;43m.\u001b[39;49m\u001b[43mget_loc\u001b[49m\u001b[43m(\u001b[49m\u001b[43mkey\u001b[49m\u001b[43m)\u001b[49m\n\u001b[0;32m   3808\u001b[0m \u001b[38;5;28;01mif\u001b[39;00m is_integer(indexer):\n\u001b[0;32m   3809\u001b[0m     indexer \u001b[38;5;241m=\u001b[39m [indexer]\n",
      "File \u001b[1;32mC:\\ProgramData\\anaconda3\\lib\\site-packages\\pandas\\core\\indexes\\base.py:3804\u001b[0m, in \u001b[0;36mIndex.get_loc\u001b[1;34m(self, key, method, tolerance)\u001b[0m\n\u001b[0;32m   3802\u001b[0m     \u001b[38;5;28;01mreturn\u001b[39;00m \u001b[38;5;28mself\u001b[39m\u001b[38;5;241m.\u001b[39m_engine\u001b[38;5;241m.\u001b[39mget_loc(casted_key)\n\u001b[0;32m   3803\u001b[0m \u001b[38;5;28;01mexcept\u001b[39;00m \u001b[38;5;167;01mKeyError\u001b[39;00m \u001b[38;5;28;01mas\u001b[39;00m err:\n\u001b[1;32m-> 3804\u001b[0m     \u001b[38;5;28;01mraise\u001b[39;00m \u001b[38;5;167;01mKeyError\u001b[39;00m(key) \u001b[38;5;28;01mfrom\u001b[39;00m \u001b[38;5;21;01merr\u001b[39;00m\n\u001b[0;32m   3805\u001b[0m \u001b[38;5;28;01mexcept\u001b[39;00m \u001b[38;5;167;01mTypeError\u001b[39;00m:\n\u001b[0;32m   3806\u001b[0m     \u001b[38;5;66;03m# If we have a listlike key, _check_indexing_error will raise\u001b[39;00m\n\u001b[0;32m   3807\u001b[0m     \u001b[38;5;66;03m#  InvalidIndexError. Otherwise we fall through and re-raise\u001b[39;00m\n\u001b[0;32m   3808\u001b[0m     \u001b[38;5;66;03m#  the TypeError.\u001b[39;00m\n\u001b[0;32m   3809\u001b[0m     \u001b[38;5;28mself\u001b[39m\u001b[38;5;241m.\u001b[39m_check_indexing_error(key)\n",
      "\u001b[1;31mKeyError\u001b[0m: 'controlSignal'"
     ]
    }
   ],
   "source": [
    "# Generate a new dataframe to evaluate the difference between the different FMUs temperature output and the Modelica simulation\n",
    "dfTFMU_PID_diff = dfOpenModPID[['time']].copy()\n",
    "\n",
    "# Calculate the difference between Python and OpenModelica - Control signal\n",
    "dfTFMU_PID_diff['ControlSignalDiff'] = dfFMUpythonPID['controlSignal'] - dfOpenModPID['controlSignal']\n",
    "\n",
    "# Calculate the difference between Python and OpenModelica - Output temperature\n",
    "dfTFMU_PID_diff['OutputTemperatureDiff'] = dfFMUpythonPID['outputTemperature'] - dfOpenModPID['outputTemperature']\n",
    "\n",
    "# Calculate the difference between Python and OpenModelica - Ambiente temperature\n",
    "dfTFMU_PID_diff['AmbienteTemperature'] = dfFMUpythonPID['ambienteTemperature'] - dfOpenModPID['ambienteTemperature']"
   ]
  },
  {
   "cell_type": "markdown",
   "id": "118ff814",
   "metadata": {},
   "source": [
    "## Plotting"
   ]
  },
  {
   "cell_type": "code",
   "execution_count": null,
   "id": "d9d70c75",
   "metadata": {},
   "outputs": [],
   "source": [
    "# Plotting of the output temperature and control signal for both FMU and Modelica model\n",
    "fig, ax1 = plt.subplots(figsize=(12, 6))\n",
    "plt.title('Plot of the PID from OpenModelica and Python based on FMU', fontsize=20)\n",
    "\n",
    "# convert to dual y-axises\n",
    "ax2 = ax1.twinx()\n",
    "\n",
    "#Range of both X-axises\n",
    "ax1.set_ylim(15, 28);\n",
    "ax2.set_ylim(-0.2, 20);\n",
    "\n",
    "# Set up the axis labels\n",
    "ax1.set_xlabel('Time [s]')\n",
    "ax1.set_ylabel('Temperature [deg C]', color='b')\n",
    "ax2.set_ylabel('Control Signal [V]', color='darkgreen')\n",
    "\n",
    "# Customize the major grid (outer grid)\n",
    "ax1.grid(which='both', linestyle='-', linewidth='0.5', color='black')\n",
    "\n",
    "# Set up data to be plotted with additional parameters\n",
    "ax1.plot(dfTFMU_PID_diff.time, dfOpenModPID.outputTemperature,  'm', linestyle='--', label='OpenModelica - Output temp', linewidth=2)\n",
    "ax1.plot(dfTFMU_PID_diff.time, dfFMUpythonPID.outputTemperature,  'c', linestyle='-.', label='PythonFMU - Output temp', linewidth=2)\n",
    "ax1.plot(dfTFMU_PID_diff.time, dfOpenModPID.ambienteTemperature,  'g', linestyle='--', label='OpenModelica - Ambiente temp', linewidth=2)\n",
    "ax1.plot(dfTFMU_PID_diff.time, dfFMUpythonPID.ambienteTemperature,  'b', linestyle=':', label='PythonFMU - Ambiente temp', linewidth=2)\n",
    "\n",
    "ax2.plot(dfTFMU_PID_diff.time, dfOpenModPID.controlSignal, 'blue', linestyle='-', label='Control Signal - OpenModelica', linewidth=2)\n",
    "ax2.plot(dfTFMU_PID_diff.time, dfFMUpythonPID.controlSignal, 'orange', linestyle='-', label='Control Signal - Python', linewidth=2)\n",
    "\n",
    "# Set x-axis limits to include only data up to 300 seconds\n",
    "ax1.set_xlim(50, 350)\n",
    "ax2.set_xlim(50, 350)\n",
    "\n",
    "# Configure placement of data legends\n",
    "ax1.legend(loc='upper left')\n",
    "ax2.legend(loc='upper right')\n",
    "\n",
    "# Save a copy of the plot\n",
    "plt.savefig('plots/pltComparePyFMUandOpenModPID.png', dpi=300, bbox_inches='tight')\n",
    "\n",
    "plt.show()"
   ]
  },
  {
   "cell_type": "code",
   "execution_count": null,
   "id": "2273bf0e",
   "metadata": {},
   "outputs": [],
   "source": [
    "# Plotting of the output difference in temperature from the Python FMU and OpenModelica\n",
    "fig, ax3 = plt.subplots(figsize=(12, 6));\n",
    "\n",
    "# Plotting of the output difference in temperature and control signal\n",
    "plt.title('Difference Between Modelica Simulations and Python with FMU', fontsize=20);\n",
    "\n",
    "# convert to dual y-axises\n",
    "ax4 = ax3.twinx();\n",
    "\n",
    "#Range of both X-axises\n",
    "ax3.set_ylim(-2.5, 2.5);\n",
    "ax4.set_ylim(-2, 10);\n",
    "\n",
    "# Set up the axis labels\n",
    "ax3.set_xlabel('Time [s]')\n",
    "ax3.set_ylabel('Temperature [deg C]', color='b')\n",
    "ax4.set_ylabel('Control Signal [V]', color='darkgreen')\n",
    "\n",
    "# Customize the major grid (outer grid)\n",
    "ax3.grid(which='both', linestyle='-', linewidth='0.5', color='black')\n",
    "\n",
    "# Set up data to be plotted with additional parameters\n",
    "ax3.plot(dfTFMU_PID_diff.time, dfTFMU_PID_diff.OutputTemperatureDiff, 'm-', label='OpenModelica_Explicit_Euler', linewidth=1.5)\n",
    "ax3.plot(dfTFMU_PID_diff.time, dfTFMU_PID_diff.AmbienteTemperature, 'c', linestyle='--', label='OpenModelica_Cvode', linewidth=1.5)\n",
    "\n",
    "ax4.plot(dfTFMU_PID_diff.time, dfTFMU_PID_diff.ControlSignalDiff, 'darkgreen', linestyle=':', label='Control Signal', linewidth=2)\n",
    "\n",
    "# Configure placement of data legends\n",
    "ax3.legend(loc='upper left')\n",
    "ax4.legend(loc='upper right')\n",
    "\n",
    "# Set x-axis limits to include only data up to 300 seconds\n",
    "ax3.set_xlim(50, 350)\n",
    "ax4.set_xlim(50, 350)\n",
    "\n",
    "# Save a copy of the plot\n",
    "plt.savefig('plots/pltCompareDIFFPyFMUandOpenModPID.png', dpi=300, bbox_inches='tight')\n",
    "\n",
    "plt.show()"
   ]
  }
 ],
 "metadata": {
  "kernelspec": {
   "display_name": "Python 3 (ipykernel)",
   "language": "python",
   "name": "python3"
  },
  "language_info": {
   "codemirror_mode": {
    "name": "ipython",
    "version": 3
   },
   "file_extension": ".py",
   "mimetype": "text/x-python",
   "name": "python",
   "nbconvert_exporter": "python",
   "pygments_lexer": "ipython3",
   "version": "3.10.9"
  }
 },
 "nbformat": 4,
 "nbformat_minor": 5
}
