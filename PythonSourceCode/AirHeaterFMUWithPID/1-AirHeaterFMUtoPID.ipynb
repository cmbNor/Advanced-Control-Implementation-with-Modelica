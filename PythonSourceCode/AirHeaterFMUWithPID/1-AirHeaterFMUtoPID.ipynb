{
 "cells": [
  {
   "cell_type": "markdown",
   "metadata": {},
   "source": [
    "# Implementation of PI controller based on Wood-chip tank with PI controller - Techteach.no - Finn Haugen\n",
    "\n",
    "[Link to source code for wood-chip](http://techteach.no/control/python/sim_pi_control_chiptank.py)"
   ]
  },
  {
   "cell_type": "code",
   "execution_count": 1,
   "metadata": {},
   "outputs": [],
   "source": [
    "from fmpy import read_model_description, extract\n",
    "from fmpy.fmi2 import FMU2Slave\n",
    "import numpy as np\n",
    "import shutil\n",
    "import matplotlib.pyplot as plt"
   ]
  },
  {
   "cell_type": "code",
   "execution_count": 2,
   "metadata": {},
   "outputs": [],
   "source": [
    "# %% Def of PI controller function:\n",
    "def fun_pi_con(y_sp_k, y_k, u_i_km1, contr_params, dt):\n",
    "    \n",
    "    (Kc, Ti, u_man, u_min, u_max) = contr_params\n",
    "    e_k = y_sp_k - y_k                        # Control error\n",
    "    u_p_k = Kc*(y_sp_k - y_k)                 # P term\n",
    "    u_i_k = u_i_km1 + (Kc*dt/Ti)*e_k          # I term\n",
    "    u_i_min = u_min - u_man\n",
    "    u_i_max = u_max - u_man\n",
    "    u_i_k = np.clip(u_i_k, u_i_min, u_i_max)  # Anti windup (Limit ui)\n",
    "    u_k = u_man + u_p_k + u_i_k               # PI term + man control\n",
    "    u_k = np.clip(u_k, u_min, u_max)          # Limitation of control\n",
    "    \n",
    "    return (u_k, u_i_k)                       #Returns control signal and calculated I term"
   ]
  },
  {
   "cell_type": "code",
   "execution_count": 3,
   "metadata": {},
   "outputs": [],
   "source": [
    "# define the model name and simulation parameters\n",
    "fmu_filename = 'AirHeater.fmu'\n",
    "start_time = 0.0\n",
    "stop_time = 600.0\n",
    "step_size = 1e-3\n",
    "show_plot=True"
   ]
  },
  {
   "cell_type": "code",
   "execution_count": 4,
   "metadata": {},
   "outputs": [],
   "source": [
    "# read the FMU model description\n",
    "model_description = read_model_description(fmu_filename)"
   ]
  },
  {
   "cell_type": "code",
   "execution_count": 5,
   "metadata": {},
   "outputs": [
    {
     "name": "stdout",
     "output_type": "stream",
     "text": [
      "{'T_CONST': 100663296, 'T_DELAY': 100663297, 'Kh': 100663298, 'u_ext': 352321536, 'T_amb_ext': 352321537, 'T_Out_ext': 335544320, 'der(T_Out_ext)': 369098755, '_StatesForOutputs.T_Out_ext': 33554432, 'der(_StatesForOutputs.T_Out_ext)': 318767104, 'CPUtime': 67108865, 'EventCounter': 67108866}\n"
     ]
    }
   ],
   "source": [
    "# collect the value references from the FMU\n",
    "vrs = {}\n",
    "for variable in model_description.modelVariables:\n",
    "    vrs[variable.name] = variable.valueReference\n",
    "print(vrs)"
   ]
  },
  {
   "cell_type": "code",
   "execution_count": 6,
   "metadata": {},
   "outputs": [],
   "source": [
    "# get the value references for the variables we want to get/set\n",
    "fmu_ControlSignal_Input = vrs['u_ext']                 # Control signal\n",
    "fmu_AmbientTemperature_Input = vrs['T_amb_ext']        # Ambiente air temperature\n",
    "fmu_OutputTemperature_Output = vrs['T_Out_ext']        # Output temperature from air heater"
   ]
  },
  {
   "cell_type": "code",
   "execution_count": 7,
   "metadata": {},
   "outputs": [],
   "source": [
    "# extract the FMU\n",
    "unzipdir = extract(fmu_filename)\n",
    "\n",
    "fmu = FMU2Slave(guid = model_description.guid,\n",
    "                unzipDirectory=unzipdir,\n",
    "                modelIdentifier=model_description.coSimulation.modelIdentifier,\n",
    "                instanceName='instance1')\n",
    "\n",
    "# initialize simulation with FMU\n",
    "fmu.instantiate()\n",
    "fmu.setupExperiment(startTime=start_time)\n",
    "fmu.enterInitializationMode()\n",
    "fmu.exitInitializationMode()\n",
    "\n",
    "time = start_time\n",
    "\n",
    "rows = []  # list to record the results from simulation\n",
    "\n",
    "#Parameters for the PID controller\n",
    "dt = step_size          # time-step\n",
    "setpoint = 20.0         # Process setpoint\n",
    "initIterm = 0.0         # Initial value of the I term\n",
    "prevIterm = initIterm   # Write the initial value to the loop variable\n",
    "\n",
    "# Set up the control parameter tuple\n",
    "Kp = 1.56               # Proportional gains for P-term\n",
    "Ti = 12.0               # Integrator gains for I-term\n",
    "uMan = 0.0\n",
    "MinControlSignal = 0.0  # Minimum control signal\n",
    "MaxControlSignal = 5.0  # Maximum control signal\n",
    "contr_params = (Kp, Ti, uMan, MinControlSignal, MaxControlSignal)\n",
    "\n",
    "# Initial simulation conditions\n",
    "AmbienteTemperature = 20.0\n",
    "InitialControlSignal = 0.0\n",
    "\n",
    "# Set the initial values in the FMU variable definitions\n",
    "fmu.setReal([fmu_ControlSignal_Input], [InitialControlSignal])\n",
    "fmu.setReal([fmu_AmbientTemperature_Input], [AmbienteTemperature])"
   ]
  },
  {
   "cell_type": "markdown",
   "metadata": {},
   "source": [
    "## Simulation"
   ]
  },
  {
   "cell_type": "code",
   "execution_count": 8,
   "metadata": {},
   "outputs": [],
   "source": [
    "# simulation loop\n",
    "while time < stop_time:\n",
    "\n",
    "    # NOTE: the FMU.get*() and FMU.set*() functions take lists of\n",
    "    # value references as arguments and return lists of values \n",
    "    \n",
    "    # Step change in ambiente temperature after 100 seconds\n",
    "    if time > 100: \n",
    "        AmbienteTemperature = 18\n",
    "    \n",
    "    # Step change in setpoint after 200 seconds\n",
    "    if time > 200: \n",
    "        setpoint = 25\n",
    "    \n",
    "    # perform one step\n",
    "    fmu.doStep(currentCommunicationPoint=time, communicationStepSize=step_size)\n",
    "\n",
    "    # advance the time\n",
    "    time += step_size\n",
    "\n",
    "    # get the values for 'inputs' and 'outputs'\n",
    "    inputs, outputs, AmbTemp = fmu.getReal([fmu_ControlSignal_Input, fmu_OutputTemperature_Output, fmu_AmbientTemperature_Input])\n",
    "\n",
    "    # append the results for plotting\n",
    "    rows.append((time, inputs, outputs, AmbTemp))\n",
    "    \n",
    "    (controlSignal, u_i_k) = fun_pi_con(setpoint, outputs, prevIterm, contr_params, dt)\n",
    "\n",
    "    fmu.setReal([fmu_ControlSignal_Input], [controlSignal])\n",
    "    fmu.setReal([fmu_AmbientTemperature_Input], [AmbienteTemperature])\n",
    "    \n",
    "    # Update integral term\n",
    "    prevIterm = u_i_k\n",
    "\n",
    "# Terminate the simulation object\n",
    "fmu.terminate()\n",
    "fmu.freeInstance()\n",
    "\n",
    "# clean up\n",
    "shutil.rmtree(unzipdir, ignore_errors=True)"
   ]
  },
  {
   "cell_type": "code",
   "execution_count": 9,
   "metadata": {},
   "outputs": [],
   "source": [
    "# Convert the results to a structured NumPy array\n",
    "result = np.array(rows, dtype=np.dtype([('time', np.float64), ('inputs', np.float64), ('outputs', np.float64), ('AmbTemp', np.float64)]))\n",
    "\n",
    "# Write results to .csv file\n",
    "csv_filename = \"datafiles/airHeaterPIDsimulation.csv\"\n",
    "np.savetxt(csv_filename, result, delimiter=',', header=\"time,controlSignal,outputTemperature,ambienteTemperature\")"
   ]
  },
  {
   "cell_type": "markdown",
   "metadata": {},
   "source": [
    "## Plotting"
   ]
  },
  {
   "cell_type": "code",
   "execution_count": 25,
   "metadata": {},
   "outputs": [
    {
     "data": {
      "image/png": "[encoded data removed]",
      "text/plain": [
       "<Figure size 1000x600 with 2 Axes>"
      ]
     },
     "metadata": {},
     "output_type": "display_data"
    }
   ],
   "source": [
    "# Extract data from the result array\n",
    "time = result['time']\n",
    "inputs = result['inputs']\n",
    "outputs = result['outputs']\n",
    "\n",
    "# Create a figure with two subplots\n",
    "fig, ax1 = plt.subplots(figsize=(10, 6))\n",
    "\n",
    "# Plot the first variable (Output temperature) on the first y-axis (ax1)\n",
    "ax1.set_xlabel('Time [s]')\n",
    "ax1.set_ylabel((r'Temperature [$\\degree$C]'))\n",
    "ax1.plot(time, outputs, 'm', label='Output temperature')\n",
    "ax1.tick_params(axis='y')\n",
    "\n",
    "# Set the y-axis limits for the output temperature subplot\n",
    "ax1.set_ylim(17, 28)\n",
    "\n",
    "# Create a second y-axis (ax2) for the second variable (Control signal)\n",
    "ax2 = ax1.twinx()  # Share the same x-axis\n",
    "ax2.set_ylabel('Control signal [V]')\n",
    "ax2.plot(time, inputs, label='Control signal')\n",
    "ax2.tick_params(axis='y')\n",
    "\n",
    "# Set the y-axis limits for the control signal subplot\n",
    "ax2.set_ylim(-0.2, 20)\n",
    "\n",
    "# Customize the plot\n",
    "plt.title('Output temperature and control signal vs. Time')\n",
    "\n",
    "# Add legends\n",
    "lines, labels = ax1.get_legend_handles_labels()\n",
    "lines2, labels2 = ax2.get_legend_handles_labels()\n",
    "ax2.legend(lines + lines2, labels + labels2, loc='upper right')\n",
    "\n",
    "plt.grid(True)\n",
    "\n",
    "# Save a copy of the plot\n",
    "plt.savefig('plots/FMUairHeaterPID.png', dpi=300, bbox_inches='tight')\n",
    "\n",
    "# Show the plot\n",
    "plt.show()"
   ]
  },
  {
   "cell_type": "code",
   "execution_count": null,
   "metadata": {},
   "outputs": [],
   "source": []
  }
 ],
 "metadata": {
  "kernelspec": {
   "display_name": "Python 3 (ipykernel)",
   "language": "python",
   "name": "python3"
  },
  "language_info": {
   "codemirror_mode": {
    "name": "ipython",
    "version": 3
   },
   "file_extension": ".py",
   "mimetype": "text/x-python",
   "name": "python",
   "nbconvert_exporter": "python",
   "pygments_lexer": "ipython3",
   "version": "3.10.9"
  }
 },
 "nbformat": 4,
 "nbformat_minor": 2
}
